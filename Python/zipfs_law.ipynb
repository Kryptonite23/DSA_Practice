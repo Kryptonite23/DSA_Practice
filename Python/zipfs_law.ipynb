{
 "cells": [
  {
   "cell_type": "code",
   "execution_count": 1,
   "metadata": {
    "id": "jm7HlpspFjJc"
   },
   "outputs": [
    {
     "ename": "ModuleNotFoundError",
     "evalue": "No module named 'scipy'",
     "output_type": "error",
     "traceback": [
      "\u001b[0;31m---------------------------------------------------------------------------\u001b[0m",
      "\u001b[0;31mModuleNotFoundError\u001b[0m                       Traceback (most recent call last)",
      "\u001b[1;32m/Users/pratyushagrawal/Desktop/C++ Codes/zipfs_law.ipynb Cell 1\u001b[0m in \u001b[0;36m<cell line: 2>\u001b[0;34m()\u001b[0m\n\u001b[1;32m      <a href='vscode-notebook-cell:/Users/pratyushagrawal/Desktop/C%2B%2B%20Codes/zipfs_law.ipynb#ch0000000?line=0'>1</a>\u001b[0m \u001b[39mimport\u001b[39;00m \u001b[39mnltk\u001b[39;00m\n\u001b[0;32m----> <a href='vscode-notebook-cell:/Users/pratyushagrawal/Desktop/C%2B%2B%20Codes/zipfs_law.ipynb#ch0000000?line=1'>2</a>\u001b[0m \u001b[39mimport\u001b[39;00m \u001b[39mscipy\u001b[39;00m\u001b[39m.\u001b[39;00m\u001b[39mstats\u001b[39;00m \u001b[39mas\u001b[39;00m \u001b[39mss\u001b[39;00m\n\u001b[1;32m      <a href='vscode-notebook-cell:/Users/pratyushagrawal/Desktop/C%2B%2B%20Codes/zipfs_law.ipynb#ch0000000?line=2'>3</a>\u001b[0m \u001b[39mimport\u001b[39;00m \u001b[39mmatplotlib\u001b[39;00m\u001b[39m.\u001b[39;00m\u001b[39mpyplot\u001b[39;00m \u001b[39mas\u001b[39;00m \u001b[39mplt\u001b[39;00m \n\u001b[1;32m      <a href='vscode-notebook-cell:/Users/pratyushagrawal/Desktop/C%2B%2B%20Codes/zipfs_law.ipynb#ch0000000?line=3'>4</a>\u001b[0m \u001b[39mimport\u001b[39;00m \u001b[39mmath\u001b[39;00m\n",
      "\u001b[0;31mModuleNotFoundError\u001b[0m: No module named 'scipy'"
     ]
    }
   ],
   "source": [
    "import nltk\n",
    "import scipy.stats as ss\n",
    "import matplotlib.pyplot as plt \n",
    "import math"
   ]
  },
  {
   "cell_type": "code",
   "execution_count": null,
   "metadata": {
    "id": "lXSy5Cg2FjJl"
   },
   "outputs": [],
   "source": [
    "from nltk.corpus import reuters\n",
    "from nltk.corpus import wordnet"
   ]
  },
  {
   "cell_type": "code",
   "execution_count": null,
   "metadata": {
    "colab": {
     "base_uri": "https://localhost:8080/"
    },
    "executionInfo": {
     "elapsed": 414,
     "status": "ok",
     "timestamp": 1659503080489,
     "user": {
      "displayName": "Pratik Shah",
      "userId": "10277037698595628794"
     },
     "user_tz": -330
    },
    "id": "-AmMA00QuPIH",
    "outputId": "f4b61276-8342-4ae8-8d45-c746a13b71e8"
   },
   "outputs": [],
   "source": [
    "nltk.download('reuters')"
   ]
  },
  {
   "cell_type": "code",
   "execution_count": null,
   "metadata": {
    "id": "xsf0IxpXFjJn"
   },
   "outputs": [],
   "source": [
    "reuters_words = [w.lower() for w in reuters.words()]\n",
    "words = set(reuters_words)\n",
    "counts = [(w, reuters_words.count(w)) for w in words]"
   ]
  },
  {
   "cell_type": "code",
   "execution_count": null,
   "metadata": {
    "id": "IJ11vO7pFjJn"
   },
   "outputs": [],
   "source": [
    "words_1 = [w for (w, c) in counts]\n",
    "counts_1 = [c for (w, c) in counts]"
   ]
  },
  {
   "cell_type": "code",
   "execution_count": null,
   "metadata": {
    "colab": {
     "base_uri": "https://localhost:8080/"
    },
    "executionInfo": {
     "elapsed": 397,
     "status": "ok",
     "timestamp": 1659504209232,
     "user": {
      "displayName": "Pratik Shah",
      "userId": "10277037698595628794"
     },
     "user_tz": -330
    },
    "id": "8FNDJN-sFjJo",
    "outputId": "d1de0c6d-83c1-476b-e07c-89a699eebc04",
    "scrolled": true
   },
   "outputs": [],
   "source": [
    "count_rank = ss.rankdata([c for (w, c) in counts])\n",
    "count_rank"
   ]
  },
  {
   "cell_type": "code",
   "execution_count": null,
   "metadata": {
    "id": "VTMf1VU-FjJq"
   },
   "outputs": [],
   "source": [
    "counts_ranked = zip(words_1, counts_1, count_rank)\n",
    "#counts_ranked[100:110]"
   ]
  },
  {
   "cell_type": "code",
   "execution_count": null,
   "metadata": {
    "colab": {
     "base_uri": "https://localhost:8080/"
    },
    "executionInfo": {
     "elapsed": 399,
     "status": "ok",
     "timestamp": 1659505137644,
     "user": {
      "displayName": "Pratik Shah",
      "userId": "10277037698595628794"
     },
     "user_tz": -330
    },
    "id": "4V_IRw0TFjJr",
    "outputId": "7bc15d7f-4d1f-4f9c-e0c3-074505d1fd20"
   },
   "outputs": [],
   "source": [
    "counts_sorted = sorted(counts_ranked, key=lambda item: item[2])\n",
    "counts_sorted[20000:20010]"
   ]
  },
  {
   "cell_type": "code",
   "execution_count": null,
   "metadata": {
    "colab": {
     "base_uri": "https://localhost:8080/",
     "height": 286
    },
    "executionInfo": {
     "elapsed": 394,
     "status": "ok",
     "timestamp": 1659505239446,
     "user": {
      "displayName": "Pratik Shah",
      "userId": "10277037698595628794"
     },
     "user_tz": -330
    },
    "id": "xXhNg-wmFjJt",
    "outputId": "aa066a19-ced4-4981-d0b5-ffa9d3639715"
   },
   "outputs": [],
   "source": [
    "L = len(counts_sorted)\n",
    "plt.plot([math.log(L-r+1) for (w, c, r) in counts_sorted], [math.log(c) for (w, c, r) in counts_sorted], 'ro')"
   ]
  },
  {
   "cell_type": "code",
   "execution_count": null,
   "metadata": {
    "id": "GeHobOKfFjJt"
   },
   "outputs": [],
   "source": [
    "import numpy as np"
   ]
  },
  {
   "cell_type": "code",
   "execution_count": null,
   "metadata": {
    "colab": {
     "base_uri": "https://localhost:8080/"
    },
    "executionInfo": {
     "elapsed": 387,
     "status": "ok",
     "timestamp": 1659505249080,
     "user": {
      "displayName": "Pratik Shah",
      "userId": "10277037698595628794"
     },
     "user_tz": -330
    },
    "id": "23cUphzAFjJu",
    "outputId": "2a628d49-58e1-4dce-a2d8-06bd6f1e3f1b"
   },
   "outputs": [],
   "source": [
    "# generate x and y\n",
    "x = [math.log(L-r+1) for (w, c, r) in counts_sorted]\n",
    "y = [math.log(c) for (w,c,r) in counts_sorted]\n",
    "X = np.array(x)\n",
    "Y = np.array(y)\n",
    "A = np.vstack([X, np.ones(len(X))]).T\n",
    "Y_ = Y[:, np.newaxis]\n",
    "alpha = np.dot((np.dot(np.linalg.inv(np.dot(A.T,A)),A.T)),Y_)\n",
    "print(alpha)"
   ]
  },
  {
   "cell_type": "code",
   "execution_count": null,
   "metadata": {
    "colab": {
     "base_uri": "https://localhost:8080/",
     "height": 279
    },
    "executionInfo": {
     "elapsed": 440,
     "status": "ok",
     "timestamp": 1659505252005,
     "user": {
      "displayName": "Pratik Shah",
      "userId": "10277037698595628794"
     },
     "user_tz": -330
    },
    "id": "pi9L2BPjFjJv",
    "outputId": "60e789f8-52c5-4c94-bf66-f9a12d06ac92"
   },
   "outputs": [],
   "source": [
    "plt.plot(X, Y, 'b.')\n",
    "plt.plot(X, alpha[0]*X + alpha[1], 'r')\n",
    "plt.xlabel('log(rank)')\n",
    "plt.ylabel('log(frequency)')\n",
    "plt.show()"
   ]
  },
  {
   "cell_type": "code",
   "execution_count": null,
   "metadata": {
    "id": "5kIrePA0FjJx"
   },
   "outputs": [],
   "source": []
  },
  {
   "cell_type": "code",
   "execution_count": null,
   "metadata": {},
   "outputs": [],
   "source": []
  }
 ],
 "metadata": {
  "colab": {
   "collapsed_sections": [],
   "name": "zipfs_law.ipynb",
   "provenance": []
  },
  "kernelspec": {
   "display_name": "Python 3.10.4 64-bit",
   "language": "python",
   "name": "python3"
  },
  "language_info": {
   "codemirror_mode": {
    "name": "ipython",
    "version": 3
   },
   "file_extension": ".py",
   "mimetype": "text/x-python",
   "name": "python",
   "nbconvert_exporter": "python",
   "pygments_lexer": "ipython3",
   "version": "3.10.4"
  },
  "vscode": {
   "interpreter": {
    "hash": "aee8b7b246df8f9039afb4144a1f6fd8d2ca17a180786b69acc140d282b71a49"
   }
  }
 },
 "nbformat": 4,
 "nbformat_minor": 1
}
